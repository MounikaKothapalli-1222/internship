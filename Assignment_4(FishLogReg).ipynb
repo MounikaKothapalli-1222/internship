{
  "nbformat": 4,
  "nbformat_minor": 0,
  "metadata": {
    "kernelspec": {
      "display_name": "Python 3",
      "language": "python",
      "name": "python3"
    },
    "language_info": {
      "codemirror_mode": {
        "name": "ipython",
        "version": 3
      },
      "file_extension": ".py",
      "mimetype": "text/x-python",
      "name": "python",
      "nbconvert_exporter": "python",
      "pygments_lexer": "ipython3",
      "version": "3.7.3"
    },
    "colab": {
      "name": "Assignment-4(FishLogReg).ipynb",
      "provenance": [],
      "collapsed_sections": []
    }
  },
  "cells": [
    {
      "cell_type": "markdown",
      "metadata": {
        "id": "pzfDVcTHUFkP"
      },
      "source": [
        "# Assignment 4:Fish dataset"
      ]
    },
    {
      "cell_type": "code",
      "metadata": {
        "id": "Y05WnBQDUFkc"
      },
      "source": [
        "import numpy as np\n",
        "import pandas as pd"
      ],
      "execution_count": 22,
      "outputs": []
    },
    {
      "cell_type": "code",
      "metadata": {
        "colab": {
          "resources": {
            "http://localhost:8080/nbextensions/google.colab/files.js": {
              "data": "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",
              "ok": true,
              "headers": [
                [
                  "content-type",
                  "application/javascript"
                ]
              ],
              "status": 200,
              "status_text": "OK"
            }
          },
          "base_uri": "https://localhost:8080/",
          "height": 75
        },
        "id": "bVfYgb_2WCD2",
        "outputId": "b8e2ce11-9099-48b3-a262-e3b6e7f4434e"
      },
      "source": [
        "from google.colab import files\n",
        "uploaded = files.upload()"
      ],
      "execution_count": 23,
      "outputs": [
        {
          "output_type": "display_data",
          "data": {
            "text/html": [
              "\n",
              "     <input type=\"file\" id=\"files-0569e398-4946-4392-b59c-6663ba1e7aac\" name=\"files[]\" multiple disabled\n",
              "        style=\"border:none\" />\n",
              "     <output id=\"result-0569e398-4946-4392-b59c-6663ba1e7aac\">\n",
              "      Upload widget is only available when the cell has been executed in the\n",
              "      current browser session. Please rerun this cell to enable.\n",
              "      </output>\n",
              "      <script src=\"/nbextensions/google.colab/files.js\"></script> "
            ],
            "text/plain": [
              "<IPython.core.display.HTML object>"
            ]
          },
          "metadata": {
            "tags": []
          }
        },
        {
          "output_type": "stream",
          "text": [
            "Saving Fish.csv to Fish (2).csv\n"
          ],
          "name": "stdout"
        }
      ]
    },
    {
      "cell_type": "code",
      "metadata": {
        "id": "5UPqc35pWbrM"
      },
      "source": [
        "dataset = pd.read_csv(\"Fish.csv\")"
      ],
      "execution_count": 25,
      "outputs": []
    },
    {
      "cell_type": "code",
      "metadata": {
        "colab": {
          "base_uri": "https://localhost:8080/",
          "height": 424
        },
        "id": "qIug5qedWvyd",
        "outputId": "bdd80f8a-9ef2-4aa3-9312-63c942beb612"
      },
      "source": [
        "dataset"
      ],
      "execution_count": 26,
      "outputs": [
        {
          "output_type": "execute_result",
          "data": {
            "text/html": [
              "<div>\n",
              "<style scoped>\n",
              "    .dataframe tbody tr th:only-of-type {\n",
              "        vertical-align: middle;\n",
              "    }\n",
              "\n",
              "    .dataframe tbody tr th {\n",
              "        vertical-align: top;\n",
              "    }\n",
              "\n",
              "    .dataframe thead th {\n",
              "        text-align: right;\n",
              "    }\n",
              "</style>\n",
              "<table border=\"1\" class=\"dataframe\">\n",
              "  <thead>\n",
              "    <tr style=\"text-align: right;\">\n",
              "      <th></th>\n",
              "      <th>Species</th>\n",
              "      <th>Weight</th>\n",
              "      <th>Length1</th>\n",
              "      <th>Length2</th>\n",
              "      <th>Length3</th>\n",
              "      <th>Height</th>\n",
              "      <th>Width</th>\n",
              "    </tr>\n",
              "  </thead>\n",
              "  <tbody>\n",
              "    <tr>\n",
              "      <th>0</th>\n",
              "      <td>Bream</td>\n",
              "      <td>242.0</td>\n",
              "      <td>23.2</td>\n",
              "      <td>25.4</td>\n",
              "      <td>30.0</td>\n",
              "      <td>11.5200</td>\n",
              "      <td>4.0200</td>\n",
              "    </tr>\n",
              "    <tr>\n",
              "      <th>1</th>\n",
              "      <td>Bream</td>\n",
              "      <td>290.0</td>\n",
              "      <td>24.0</td>\n",
              "      <td>26.3</td>\n",
              "      <td>31.2</td>\n",
              "      <td>12.4800</td>\n",
              "      <td>4.3056</td>\n",
              "    </tr>\n",
              "    <tr>\n",
              "      <th>2</th>\n",
              "      <td>Bream</td>\n",
              "      <td>340.0</td>\n",
              "      <td>23.9</td>\n",
              "      <td>26.5</td>\n",
              "      <td>31.1</td>\n",
              "      <td>12.3778</td>\n",
              "      <td>4.6961</td>\n",
              "    </tr>\n",
              "    <tr>\n",
              "      <th>3</th>\n",
              "      <td>Bream</td>\n",
              "      <td>363.0</td>\n",
              "      <td>26.3</td>\n",
              "      <td>29.0</td>\n",
              "      <td>33.5</td>\n",
              "      <td>12.7300</td>\n",
              "      <td>4.4555</td>\n",
              "    </tr>\n",
              "    <tr>\n",
              "      <th>4</th>\n",
              "      <td>Bream</td>\n",
              "      <td>430.0</td>\n",
              "      <td>26.5</td>\n",
              "      <td>29.0</td>\n",
              "      <td>34.0</td>\n",
              "      <td>12.4440</td>\n",
              "      <td>5.1340</td>\n",
              "    </tr>\n",
              "    <tr>\n",
              "      <th>...</th>\n",
              "      <td>...</td>\n",
              "      <td>...</td>\n",
              "      <td>...</td>\n",
              "      <td>...</td>\n",
              "      <td>...</td>\n",
              "      <td>...</td>\n",
              "      <td>...</td>\n",
              "    </tr>\n",
              "    <tr>\n",
              "      <th>154</th>\n",
              "      <td>Smelt</td>\n",
              "      <td>12.2</td>\n",
              "      <td>11.5</td>\n",
              "      <td>12.2</td>\n",
              "      <td>13.4</td>\n",
              "      <td>2.0904</td>\n",
              "      <td>1.3936</td>\n",
              "    </tr>\n",
              "    <tr>\n",
              "      <th>155</th>\n",
              "      <td>Smelt</td>\n",
              "      <td>13.4</td>\n",
              "      <td>11.7</td>\n",
              "      <td>12.4</td>\n",
              "      <td>13.5</td>\n",
              "      <td>2.4300</td>\n",
              "      <td>1.2690</td>\n",
              "    </tr>\n",
              "    <tr>\n",
              "      <th>156</th>\n",
              "      <td>Smelt</td>\n",
              "      <td>12.2</td>\n",
              "      <td>12.1</td>\n",
              "      <td>13.0</td>\n",
              "      <td>13.8</td>\n",
              "      <td>2.2770</td>\n",
              "      <td>1.2558</td>\n",
              "    </tr>\n",
              "    <tr>\n",
              "      <th>157</th>\n",
              "      <td>Smelt</td>\n",
              "      <td>19.7</td>\n",
              "      <td>13.2</td>\n",
              "      <td>14.3</td>\n",
              "      <td>15.2</td>\n",
              "      <td>2.8728</td>\n",
              "      <td>2.0672</td>\n",
              "    </tr>\n",
              "    <tr>\n",
              "      <th>158</th>\n",
              "      <td>Smelt</td>\n",
              "      <td>19.9</td>\n",
              "      <td>13.8</td>\n",
              "      <td>15.0</td>\n",
              "      <td>16.2</td>\n",
              "      <td>2.9322</td>\n",
              "      <td>1.8792</td>\n",
              "    </tr>\n",
              "  </tbody>\n",
              "</table>\n",
              "<p>159 rows × 7 columns</p>\n",
              "</div>"
            ],
            "text/plain": [
              "    Species  Weight  Length1  Length2  Length3   Height   Width\n",
              "0     Bream   242.0     23.2     25.4     30.0  11.5200  4.0200\n",
              "1     Bream   290.0     24.0     26.3     31.2  12.4800  4.3056\n",
              "2     Bream   340.0     23.9     26.5     31.1  12.3778  4.6961\n",
              "3     Bream   363.0     26.3     29.0     33.5  12.7300  4.4555\n",
              "4     Bream   430.0     26.5     29.0     34.0  12.4440  5.1340\n",
              "..      ...     ...      ...      ...      ...      ...     ...\n",
              "154   Smelt    12.2     11.5     12.2     13.4   2.0904  1.3936\n",
              "155   Smelt    13.4     11.7     12.4     13.5   2.4300  1.2690\n",
              "156   Smelt    12.2     12.1     13.0     13.8   2.2770  1.2558\n",
              "157   Smelt    19.7     13.2     14.3     15.2   2.8728  2.0672\n",
              "158   Smelt    19.9     13.8     15.0     16.2   2.9322  1.8792\n",
              "\n",
              "[159 rows x 7 columns]"
            ]
          },
          "metadata": {
            "tags": []
          },
          "execution_count": 26
        }
      ]
    },
    {
      "cell_type": "code",
      "metadata": {
        "colab": {
          "base_uri": "https://localhost:8080/",
          "height": 206
        },
        "id": "J4uALeuuUFkg",
        "outputId": "29af2429-0f91-48d6-d3ce-6ca4d8a5cb3c"
      },
      "source": [
        "dataset.head()"
      ],
      "execution_count": 27,
      "outputs": [
        {
          "output_type": "execute_result",
          "data": {
            "text/html": [
              "<div>\n",
              "<style scoped>\n",
              "    .dataframe tbody tr th:only-of-type {\n",
              "        vertical-align: middle;\n",
              "    }\n",
              "\n",
              "    .dataframe tbody tr th {\n",
              "        vertical-align: top;\n",
              "    }\n",
              "\n",
              "    .dataframe thead th {\n",
              "        text-align: right;\n",
              "    }\n",
              "</style>\n",
              "<table border=\"1\" class=\"dataframe\">\n",
              "  <thead>\n",
              "    <tr style=\"text-align: right;\">\n",
              "      <th></th>\n",
              "      <th>Species</th>\n",
              "      <th>Weight</th>\n",
              "      <th>Length1</th>\n",
              "      <th>Length2</th>\n",
              "      <th>Length3</th>\n",
              "      <th>Height</th>\n",
              "      <th>Width</th>\n",
              "    </tr>\n",
              "  </thead>\n",
              "  <tbody>\n",
              "    <tr>\n",
              "      <th>0</th>\n",
              "      <td>Bream</td>\n",
              "      <td>242.0</td>\n",
              "      <td>23.2</td>\n",
              "      <td>25.4</td>\n",
              "      <td>30.0</td>\n",
              "      <td>11.5200</td>\n",
              "      <td>4.0200</td>\n",
              "    </tr>\n",
              "    <tr>\n",
              "      <th>1</th>\n",
              "      <td>Bream</td>\n",
              "      <td>290.0</td>\n",
              "      <td>24.0</td>\n",
              "      <td>26.3</td>\n",
              "      <td>31.2</td>\n",
              "      <td>12.4800</td>\n",
              "      <td>4.3056</td>\n",
              "    </tr>\n",
              "    <tr>\n",
              "      <th>2</th>\n",
              "      <td>Bream</td>\n",
              "      <td>340.0</td>\n",
              "      <td>23.9</td>\n",
              "      <td>26.5</td>\n",
              "      <td>31.1</td>\n",
              "      <td>12.3778</td>\n",
              "      <td>4.6961</td>\n",
              "    </tr>\n",
              "    <tr>\n",
              "      <th>3</th>\n",
              "      <td>Bream</td>\n",
              "      <td>363.0</td>\n",
              "      <td>26.3</td>\n",
              "      <td>29.0</td>\n",
              "      <td>33.5</td>\n",
              "      <td>12.7300</td>\n",
              "      <td>4.4555</td>\n",
              "    </tr>\n",
              "    <tr>\n",
              "      <th>4</th>\n",
              "      <td>Bream</td>\n",
              "      <td>430.0</td>\n",
              "      <td>26.5</td>\n",
              "      <td>29.0</td>\n",
              "      <td>34.0</td>\n",
              "      <td>12.4440</td>\n",
              "      <td>5.1340</td>\n",
              "    </tr>\n",
              "  </tbody>\n",
              "</table>\n",
              "</div>"
            ],
            "text/plain": [
              "  Species  Weight  Length1  Length2  Length3   Height   Width\n",
              "0   Bream   242.0     23.2     25.4     30.0  11.5200  4.0200\n",
              "1   Bream   290.0     24.0     26.3     31.2  12.4800  4.3056\n",
              "2   Bream   340.0     23.9     26.5     31.1  12.3778  4.6961\n",
              "3   Bream   363.0     26.3     29.0     33.5  12.7300  4.4555\n",
              "4   Bream   430.0     26.5     29.0     34.0  12.4440  5.1340"
            ]
          },
          "metadata": {
            "tags": []
          },
          "execution_count": 27
        }
      ]
    },
    {
      "cell_type": "code",
      "metadata": {
        "colab": {
          "base_uri": "https://localhost:8080/"
        },
        "id": "UGex4dexUFkj",
        "outputId": "d4a6443a-b1f7-4170-b054-7a1dff811f29"
      },
      "source": [
        "dataset.isnull().sum()"
      ],
      "execution_count": 28,
      "outputs": [
        {
          "output_type": "execute_result",
          "data": {
            "text/plain": [
              "Species    0\n",
              "Weight     0\n",
              "Length1    0\n",
              "Length2    0\n",
              "Length3    0\n",
              "Height     0\n",
              "Width      0\n",
              "dtype: int64"
            ]
          },
          "metadata": {
            "tags": []
          },
          "execution_count": 28
        }
      ]
    },
    {
      "cell_type": "code",
      "metadata": {
        "colab": {
          "base_uri": "https://localhost:8080/"
        },
        "id": "7pr0tuLJUFkl",
        "outputId": "6bb194a6-0587-4f93-bc2f-2a6a2689d2c5"
      },
      "source": [
        "dataset.info()"
      ],
      "execution_count": 29,
      "outputs": [
        {
          "output_type": "stream",
          "text": [
            "<class 'pandas.core.frame.DataFrame'>\n",
            "RangeIndex: 159 entries, 0 to 158\n",
            "Data columns (total 7 columns):\n",
            " #   Column   Non-Null Count  Dtype  \n",
            "---  ------   --------------  -----  \n",
            " 0   Species  159 non-null    object \n",
            " 1   Weight   159 non-null    float64\n",
            " 2   Length1  159 non-null    float64\n",
            " 3   Length2  159 non-null    float64\n",
            " 4   Length3  159 non-null    float64\n",
            " 5   Height   159 non-null    float64\n",
            " 6   Width    159 non-null    float64\n",
            "dtypes: float64(6), object(1)\n",
            "memory usage: 8.8+ KB\n"
          ],
          "name": "stdout"
        }
      ]
    },
    {
      "cell_type": "code",
      "metadata": {
        "colab": {
          "base_uri": "https://localhost:8080/",
          "height": 206
        },
        "id": "9K3_cIXzUFkl",
        "outputId": "f67d99ad-2d9a-4f2e-d992-0b59ad081b79"
      },
      "source": [
        "dataset.head()"
      ],
      "execution_count": 30,
      "outputs": [
        {
          "output_type": "execute_result",
          "data": {
            "text/html": [
              "<div>\n",
              "<style scoped>\n",
              "    .dataframe tbody tr th:only-of-type {\n",
              "        vertical-align: middle;\n",
              "    }\n",
              "\n",
              "    .dataframe tbody tr th {\n",
              "        vertical-align: top;\n",
              "    }\n",
              "\n",
              "    .dataframe thead th {\n",
              "        text-align: right;\n",
              "    }\n",
              "</style>\n",
              "<table border=\"1\" class=\"dataframe\">\n",
              "  <thead>\n",
              "    <tr style=\"text-align: right;\">\n",
              "      <th></th>\n",
              "      <th>Species</th>\n",
              "      <th>Weight</th>\n",
              "      <th>Length1</th>\n",
              "      <th>Length2</th>\n",
              "      <th>Length3</th>\n",
              "      <th>Height</th>\n",
              "      <th>Width</th>\n",
              "    </tr>\n",
              "  </thead>\n",
              "  <tbody>\n",
              "    <tr>\n",
              "      <th>0</th>\n",
              "      <td>Bream</td>\n",
              "      <td>242.0</td>\n",
              "      <td>23.2</td>\n",
              "      <td>25.4</td>\n",
              "      <td>30.0</td>\n",
              "      <td>11.5200</td>\n",
              "      <td>4.0200</td>\n",
              "    </tr>\n",
              "    <tr>\n",
              "      <th>1</th>\n",
              "      <td>Bream</td>\n",
              "      <td>290.0</td>\n",
              "      <td>24.0</td>\n",
              "      <td>26.3</td>\n",
              "      <td>31.2</td>\n",
              "      <td>12.4800</td>\n",
              "      <td>4.3056</td>\n",
              "    </tr>\n",
              "    <tr>\n",
              "      <th>2</th>\n",
              "      <td>Bream</td>\n",
              "      <td>340.0</td>\n",
              "      <td>23.9</td>\n",
              "      <td>26.5</td>\n",
              "      <td>31.1</td>\n",
              "      <td>12.3778</td>\n",
              "      <td>4.6961</td>\n",
              "    </tr>\n",
              "    <tr>\n",
              "      <th>3</th>\n",
              "      <td>Bream</td>\n",
              "      <td>363.0</td>\n",
              "      <td>26.3</td>\n",
              "      <td>29.0</td>\n",
              "      <td>33.5</td>\n",
              "      <td>12.7300</td>\n",
              "      <td>4.4555</td>\n",
              "    </tr>\n",
              "    <tr>\n",
              "      <th>4</th>\n",
              "      <td>Bream</td>\n",
              "      <td>430.0</td>\n",
              "      <td>26.5</td>\n",
              "      <td>29.0</td>\n",
              "      <td>34.0</td>\n",
              "      <td>12.4440</td>\n",
              "      <td>5.1340</td>\n",
              "    </tr>\n",
              "  </tbody>\n",
              "</table>\n",
              "</div>"
            ],
            "text/plain": [
              "  Species  Weight  Length1  Length2  Length3   Height   Width\n",
              "0   Bream   242.0     23.2     25.4     30.0  11.5200  4.0200\n",
              "1   Bream   290.0     24.0     26.3     31.2  12.4800  4.3056\n",
              "2   Bream   340.0     23.9     26.5     31.1  12.3778  4.6961\n",
              "3   Bream   363.0     26.3     29.0     33.5  12.7300  4.4555\n",
              "4   Bream   430.0     26.5     29.0     34.0  12.4440  5.1340"
            ]
          },
          "metadata": {
            "tags": []
          },
          "execution_count": 30
        }
      ]
    },
    {
      "cell_type": "code",
      "metadata": {
        "colab": {
          "base_uri": "https://localhost:8080/"
        },
        "id": "f4vwRW4jUFkn",
        "outputId": "fe5ecc73-d9dd-4a45-ddec-4b2df4b8ebee"
      },
      "source": [
        "dataset.shape"
      ],
      "execution_count": 31,
      "outputs": [
        {
          "output_type": "execute_result",
          "data": {
            "text/plain": [
              "(159, 7)"
            ]
          },
          "metadata": {
            "tags": []
          },
          "execution_count": 31
        }
      ]
    },
    {
      "cell_type": "code",
      "metadata": {
        "colab": {
          "base_uri": "https://localhost:8080/"
        },
        "id": "wCyS8t1_UFkn",
        "outputId": "ef057246-8947-44ec-80fa-e10e34e07fbd"
      },
      "source": [
        "dataset.Species.unique()"
      ],
      "execution_count": 32,
      "outputs": [
        {
          "output_type": "execute_result",
          "data": {
            "text/plain": [
              "array(['Bream', 'Roach', 'Whitefish', 'Parkki', 'Perch', 'Pike', 'Smelt'],\n",
              "      dtype=object)"
            ]
          },
          "metadata": {
            "tags": []
          },
          "execution_count": 32
        }
      ]
    },
    {
      "cell_type": "code",
      "metadata": {
        "id": "oJNahIgOUFkp"
      },
      "source": [
        "x=dataset.iloc[:,[0,2,3,4,5,6]].values\n",
        "y=dataset.iloc[:,1].values"
      ],
      "execution_count": 33,
      "outputs": []
    },
    {
      "cell_type": "code",
      "metadata": {
        "colab": {
          "base_uri": "https://localhost:8080/"
        },
        "id": "cSg0SYlFUFkq",
        "outputId": "124e827d-20dc-4345-eecf-297bfb06b339"
      },
      "source": [
        "x"
      ],
      "execution_count": 34,
      "outputs": [
        {
          "output_type": "execute_result",
          "data": {
            "text/plain": [
              "array([['Bream', 23.2, 25.4, 30.0, 11.52, 4.02],\n",
              "       ['Bream', 24.0, 26.3, 31.2, 12.48, 4.3056],\n",
              "       ['Bream', 23.9, 26.5, 31.1, 12.3778, 4.6961],\n",
              "       ['Bream', 26.3, 29.0, 33.5, 12.73, 4.4555],\n",
              "       ['Bream', 26.5, 29.0, 34.0, 12.444, 5.1339999999999995],\n",
              "       ['Bream', 26.8, 29.7, 34.7, 13.6024, 4.9274],\n",
              "       ['Bream', 26.8, 29.7, 34.5, 14.1795, 5.2785],\n",
              "       ['Bream', 27.6, 30.0, 35.0, 12.67, 4.69],\n",
              "       ['Bream', 27.6, 30.0, 35.1, 14.0049, 4.8438],\n",
              "       ['Bream', 28.5, 30.7, 36.2, 14.2266, 4.9594],\n",
              "       ['Bream', 28.4, 31.0, 36.2, 14.2628, 5.1042],\n",
              "       ['Bream', 28.7, 31.0, 36.2, 14.3714, 4.8146],\n",
              "       ['Bream', 29.1, 31.5, 36.4, 13.7592, 4.368],\n",
              "       ['Bream', 29.5, 32.0, 37.3, 13.9129, 5.0728],\n",
              "       ['Bream', 29.4, 32.0, 37.2, 14.9544, 5.1708],\n",
              "       ['Bream', 29.4, 32.0, 37.2, 15.437999999999999, 5.58],\n",
              "       ['Bream', 30.4, 33.0, 38.3, 14.8604, 5.2854],\n",
              "       ['Bream', 30.4, 33.0, 38.5, 14.937999999999999, 5.1975],\n",
              "       ['Bream', 30.9, 33.5, 38.6, 15.633, 5.1338],\n",
              "       ['Bream', 31.0, 33.5, 38.7, 14.4738, 5.7276],\n",
              "       ['Bream', 31.3, 34.0, 39.5, 15.1285, 5.5695],\n",
              "       ['Bream', 31.4, 34.0, 39.2, 15.9936, 5.3704],\n",
              "       ['Bream', 31.5, 34.5, 39.7, 15.5227, 5.2801],\n",
              "       ['Bream', 31.8, 35.0, 40.6, 15.4686, 6.1306],\n",
              "       ['Bream', 31.9, 35.0, 40.5, 16.2405, 5.5889999999999995],\n",
              "       ['Bream', 31.8, 35.0, 40.9, 16.36, 6.0532],\n",
              "       ['Bream', 32.0, 35.0, 40.6, 16.3618, 6.09],\n",
              "       ['Bream', 32.7, 36.0, 41.5, 16.517, 5.8515],\n",
              "       ['Bream', 32.8, 36.0, 41.6, 16.8896, 6.1984],\n",
              "       ['Bream', 33.5, 37.0, 42.6, 18.957, 6.603],\n",
              "       ['Bream', 35.0, 38.5, 44.1, 18.0369, 6.3063],\n",
              "       ['Bream', 35.0, 38.5, 44.0, 18.084, 6.292000000000001],\n",
              "       ['Bream', 36.2, 39.5, 45.3, 18.7542, 6.7497],\n",
              "       ['Bream', 37.4, 41.0, 45.9, 18.6354, 6.7473],\n",
              "       ['Bream', 38.0, 41.0, 46.5, 17.6235, 6.3705],\n",
              "       ['Roach', 12.9, 14.1, 16.2, 4.1472, 2.2680000000000002],\n",
              "       ['Roach', 16.5, 18.2, 20.3, 5.2983, 2.8217],\n",
              "       ['Roach', 17.5, 18.8, 21.2, 5.5756, 2.9044],\n",
              "       ['Roach', 18.2, 19.8, 22.2, 5.6166, 3.1746],\n",
              "       ['Roach', 18.6, 20.0, 22.2, 6.216, 3.5742],\n",
              "       ['Roach', 19.0, 20.5, 22.8, 6.4752, 3.3516],\n",
              "       ['Roach', 19.1, 20.8, 23.1, 6.1677, 3.3957],\n",
              "       ['Roach', 19.4, 21.0, 23.7, 6.1146, 3.2943],\n",
              "       ['Roach', 20.4, 22.0, 24.7, 5.8045, 3.7544],\n",
              "       ['Roach', 20.5, 22.0, 24.3, 6.6339, 3.5478],\n",
              "       ['Roach', 20.5, 22.5, 25.3, 7.0334, 3.8203],\n",
              "       ['Roach', 21.0, 22.5, 25.0, 6.55, 3.325],\n",
              "       ['Roach', 21.1, 22.5, 25.0, 6.4, 3.8],\n",
              "       ['Roach', 22.0, 24.0, 27.2, 7.5344, 3.8352],\n",
              "       ['Roach', 22.0, 23.4, 26.7, 6.9153, 3.6312],\n",
              "       ['Roach', 22.1, 23.5, 26.8, 7.3968, 4.1272],\n",
              "       ['Roach', 23.6, 25.2, 27.9, 7.0866, 3.906],\n",
              "       ['Roach', 24.0, 26.0, 29.2, 8.8768, 4.4968],\n",
              "       ['Roach', 25.0, 27.0, 30.6, 8.568, 4.7736],\n",
              "       ['Roach', 29.5, 31.7, 35.0, 9.485, 5.355],\n",
              "       ['Whitefish', 23.6, 26.0, 28.7, 8.3804, 4.2476],\n",
              "       ['Whitefish', 24.1, 26.5, 29.3, 8.1454, 4.2485],\n",
              "       ['Whitefish', 25.6, 28.0, 30.8, 8.777999999999999, 4.6816],\n",
              "       ['Whitefish', 28.5, 31.0, 34.0, 10.744000000000002, 6.562],\n",
              "       ['Whitefish', 33.7, 36.4, 39.6, 11.7612, 6.5736],\n",
              "       ['Whitefish', 37.3, 40.0, 43.5, 12.354000000000001, 6.525],\n",
              "       ['Parkki', 13.5, 14.7, 16.5, 6.8475, 2.3265],\n",
              "       ['Parkki', 14.3, 15.5, 17.4, 6.5772, 2.3142],\n",
              "       ['Parkki', 16.3, 17.7, 19.8, 7.4052, 2.673],\n",
              "       ['Parkki', 17.5, 19.0, 21.3, 8.3922, 2.9181],\n",
              "       ['Parkki', 18.4, 20.0, 22.4, 8.8928, 3.2928],\n",
              "       ['Parkki', 19.0, 20.7, 23.2, 8.5376, 3.2944],\n",
              "       ['Parkki', 19.0, 20.7, 23.2, 9.396, 3.4104],\n",
              "       ['Parkki', 19.8, 21.5, 24.1, 9.7364, 3.1571],\n",
              "       ['Parkki', 21.2, 23.0, 25.8, 10.3458, 3.6636],\n",
              "       ['Parkki', 23.0, 25.0, 28.0, 11.088, 4.144],\n",
              "       ['Parkki', 24.0, 26.0, 29.0, 11.368, 4.234],\n",
              "       ['Perch', 7.5, 8.4, 8.8, 2.112, 1.4080000000000001],\n",
              "       ['Perch', 12.5, 13.7, 14.7, 3.528, 1.9992],\n",
              "       ['Perch', 13.8, 15.0, 16.0, 3.824, 2.432],\n",
              "       ['Perch', 15.0, 16.2, 17.2, 4.5924, 2.6316],\n",
              "       ['Perch', 15.7, 17.4, 18.5, 4.588, 2.9415],\n",
              "       ['Perch', 16.2, 18.0, 19.2, 5.2224, 3.3216],\n",
              "       ['Perch', 16.8, 18.7, 19.4, 5.1992, 3.1234],\n",
              "       ['Perch', 17.2, 19.0, 20.2, 5.6358, 3.0502],\n",
              "       ['Perch', 17.8, 19.6, 20.8, 5.1376, 3.0368],\n",
              "       ['Perch', 18.2, 20.0, 21.0, 5.082, 2.772],\n",
              "       ['Perch', 19.0, 21.0, 22.5, 5.6925, 3.555],\n",
              "       ['Perch', 19.0, 21.0, 22.5, 5.9175, 3.3075],\n",
              "       ['Perch', 19.0, 21.0, 22.5, 5.6925, 3.6675],\n",
              "       ['Perch', 19.3, 21.3, 22.8, 6.3839999999999995, 3.534],\n",
              "       ['Perch', 20.0, 22.0, 23.5, 6.11, 3.4075],\n",
              "       ['Perch', 20.0, 22.0, 23.5, 5.64, 3.525],\n",
              "       ['Perch', 20.0, 22.0, 23.5, 6.11, 3.525],\n",
              "       ['Perch', 20.0, 22.0, 23.5, 5.875, 3.525],\n",
              "       ['Perch', 20.0, 22.0, 23.5, 5.5225, 3.995],\n",
              "       ['Perch', 20.5, 22.5, 24.0, 5.856, 3.6239999999999997],\n",
              "       ['Perch', 20.5, 22.5, 24.0, 6.792000000000001, 3.6239999999999997],\n",
              "       ['Perch', 20.7, 22.7, 24.2, 5.9532, 3.63],\n",
              "       ['Perch', 21.0, 23.0, 24.5, 5.2185, 3.6260000000000003],\n",
              "       ['Perch', 21.5, 23.5, 25.0, 6.275, 3.725],\n",
              "       ['Perch', 22.0, 24.0, 25.5, 7.292999999999999, 3.7230000000000003],\n",
              "       ['Perch', 22.0, 24.0, 25.5, 6.375, 3.825],\n",
              "       ['Perch', 22.6, 24.6, 26.2, 6.7334, 4.1658],\n",
              "       ['Perch', 23.0, 25.0, 26.5, 6.4395, 3.6835],\n",
              "       ['Perch', 23.5, 25.6, 27.0, 6.561, 4.239],\n",
              "       ['Perch', 25.0, 26.5, 28.0, 7.167999999999999, 4.144],\n",
              "       ['Perch', 25.2, 27.3, 28.7, 8.323, 5.1373],\n",
              "       ['Perch', 25.4, 27.5, 28.9, 7.1672, 4.335],\n",
              "       ['Perch', 25.4, 27.5, 28.9, 7.0516, 4.335],\n",
              "       ['Perch', 25.4, 27.5, 28.9, 7.2828, 4.5662],\n",
              "       ['Perch', 25.9, 28.0, 29.4, 7.8204, 4.2042],\n",
              "       ['Perch', 26.9, 28.7, 30.1, 7.5852, 4.6354],\n",
              "       ['Perch', 27.8, 30.0, 31.6, 7.6156, 4.7716],\n",
              "       ['Perch', 30.5, 32.8, 34.0, 10.03, 6.018],\n",
              "       ['Perch', 32.0, 34.5, 36.5, 10.2565, 6.3875],\n",
              "       ['Perch', 32.5, 35.0, 37.3, 11.4884, 7.7957],\n",
              "       ['Perch', 34.0, 36.5, 39.0, 10.880999999999998, 6.864],\n",
              "       ['Perch', 34.0, 36.0, 38.3, 10.6091, 6.7408],\n",
              "       ['Perch', 34.5, 37.0, 39.4, 10.835, 6.2646],\n",
              "       ['Perch', 34.6, 37.0, 39.3, 10.5717, 6.3666],\n",
              "       ['Perch', 36.5, 39.0, 41.4, 11.1366, 7.4934],\n",
              "       ['Perch', 36.5, 39.0, 41.4, 11.1366, 6.002999999999999],\n",
              "       ['Perch', 36.6, 39.0, 41.3, 12.4313, 7.3514],\n",
              "       ['Perch', 36.9, 40.0, 42.3, 11.9286, 7.1064],\n",
              "       ['Perch', 37.0, 40.0, 42.5, 11.73, 7.225],\n",
              "       ['Perch', 37.0, 40.0, 42.4, 12.3808, 7.4624],\n",
              "       ['Perch', 37.1, 40.0, 42.5, 11.135, 6.63],\n",
              "       ['Perch', 39.0, 42.0, 44.6, 12.8002, 6.8684],\n",
              "       ['Perch', 39.8, 43.0, 45.2, 11.9328, 7.2772],\n",
              "       ['Perch', 40.1, 43.0, 45.5, 12.5125, 7.4165],\n",
              "       ['Perch', 40.2, 43.5, 46.0, 12.604000000000001, 8.142000000000001],\n",
              "       ['Perch', 41.1, 44.0, 46.6, 12.4888, 7.5958],\n",
              "       ['Pike', 30.0, 32.3, 34.8, 5.568, 3.3756],\n",
              "       ['Pike', 31.7, 34.0, 37.8, 5.7078, 4.158],\n",
              "       ['Pike', 32.7, 35.0, 38.8, 5.9364, 4.3844],\n",
              "       ['Pike', 34.8, 37.3, 39.8, 6.2884, 4.0198],\n",
              "       ['Pike', 35.5, 38.0, 40.5, 7.29, 4.5765],\n",
              "       ['Pike', 36.0, 38.5, 41.0, 6.396, 3.977],\n",
              "       ['Pike', 40.0, 42.5, 45.5, 7.28, 4.3225],\n",
              "       ['Pike', 40.0, 42.5, 45.5, 6.825, 4.459],\n",
              "       ['Pike', 40.1, 43.0, 45.8, 7.7860000000000005, 5.1296],\n",
              "       ['Pike', 42.0, 45.0, 48.0, 6.96, 4.896],\n",
              "       ['Pike', 43.2, 46.0, 48.7, 7.792000000000001, 4.87],\n",
              "       ['Pike', 44.8, 48.0, 51.2, 7.68, 5.376],\n",
              "       ['Pike', 48.3, 51.7, 55.1, 8.9262, 6.1712],\n",
              "       ['Pike', 52.0, 56.0, 59.7, 10.6863, 6.9849],\n",
              "       ['Pike', 56.0, 60.0, 64.0, 9.6, 6.144],\n",
              "       ['Pike', 56.0, 60.0, 64.0, 9.6, 6.144],\n",
              "       ['Pike', 59.0, 63.4, 68.0, 10.812000000000001, 7.48],\n",
              "       ['Smelt', 9.3, 9.8, 10.8, 1.7388, 1.0476],\n",
              "       ['Smelt', 10.0, 10.5, 11.6, 1.972, 1.16],\n",
              "       ['Smelt', 10.1, 10.6, 11.6, 1.7284, 1.1484],\n",
              "       ['Smelt', 10.4, 11.0, 12.0, 2.1959999999999997, 1.38],\n",
              "       ['Smelt', 10.7, 11.2, 12.4, 2.0832, 1.2772],\n",
              "       ['Smelt', 10.8, 11.3, 12.6, 1.9782, 1.2852],\n",
              "       ['Smelt', 11.3, 11.8, 13.1, 2.2139, 1.2838],\n",
              "       ['Smelt', 11.3, 11.8, 13.1, 2.2139, 1.1659],\n",
              "       ['Smelt', 11.4, 12.0, 13.2, 2.2044, 1.1484],\n",
              "       ['Smelt', 11.5, 12.2, 13.4, 2.0904, 1.3936],\n",
              "       ['Smelt', 11.7, 12.4, 13.5, 2.43, 1.2690000000000001],\n",
              "       ['Smelt', 12.1, 13.0, 13.8, 2.2769999999999997, 1.2558],\n",
              "       ['Smelt', 13.2, 14.3, 15.2, 2.8728, 2.0672],\n",
              "       ['Smelt', 13.8, 15.0, 16.2, 2.9322, 1.8792]], dtype=object)"
            ]
          },
          "metadata": {
            "tags": []
          },
          "execution_count": 34
        }
      ]
    },
    {
      "cell_type": "code",
      "metadata": {
        "colab": {
          "base_uri": "https://localhost:8080/"
        },
        "id": "UPGjAHVZUFkr",
        "outputId": "aaf873bb-6219-4574-9833-8fcb0ffc730b"
      },
      "source": [
        "y"
      ],
      "execution_count": 35,
      "outputs": [
        {
          "output_type": "execute_result",
          "data": {
            "text/plain": [
              "array([ 242. ,  290. ,  340. ,  363. ,  430. ,  450. ,  500. ,  390. ,\n",
              "        450. ,  500. ,  475. ,  500. ,  500. ,  340. ,  600. ,  600. ,\n",
              "        700. ,  700. ,  610. ,  650. ,  575. ,  685. ,  620. ,  680. ,\n",
              "        700. ,  725. ,  720. ,  714. ,  850. , 1000. ,  920. ,  955. ,\n",
              "        925. ,  975. ,  950. ,   40. ,   69. ,   78. ,   87. ,  120. ,\n",
              "          0. ,  110. ,  120. ,  150. ,  145. ,  160. ,  140. ,  160. ,\n",
              "        169. ,  161. ,  200. ,  180. ,  290. ,  272. ,  390. ,  270. ,\n",
              "        270. ,  306. ,  540. ,  800. , 1000. ,   55. ,   60. ,   90. ,\n",
              "        120. ,  150. ,  140. ,  170. ,  145. ,  200. ,  273. ,  300. ,\n",
              "          5.9,   32. ,   40. ,   51.5,   70. ,  100. ,   78. ,   80. ,\n",
              "         85. ,   85. ,  110. ,  115. ,  125. ,  130. ,  120. ,  120. ,\n",
              "        130. ,  135. ,  110. ,  130. ,  150. ,  145. ,  150. ,  170. ,\n",
              "        225. ,  145. ,  188. ,  180. ,  197. ,  218. ,  300. ,  260. ,\n",
              "        265. ,  250. ,  250. ,  300. ,  320. ,  514. ,  556. ,  840. ,\n",
              "        685. ,  700. ,  700. ,  690. ,  900. ,  650. ,  820. ,  850. ,\n",
              "        900. , 1015. ,  820. , 1100. , 1000. , 1100. , 1000. , 1000. ,\n",
              "        200. ,  300. ,  300. ,  300. ,  430. ,  345. ,  456. ,  510. ,\n",
              "        540. ,  500. ,  567. ,  770. ,  950. , 1250. , 1600. , 1550. ,\n",
              "       1650. ,    6.7,    7.5,    7. ,    9.7,    9.8,    8.7,   10. ,\n",
              "          9.9,    9.8,   12.2,   13.4,   12.2,   19.7,   19.9])"
            ]
          },
          "metadata": {
            "tags": []
          },
          "execution_count": 35
        }
      ]
    },
    {
      "cell_type": "code",
      "metadata": {
        "colab": {
          "base_uri": "https://localhost:8080/"
        },
        "id": "Ha1uxrHTUFkt",
        "outputId": "69c8fe35-7a10-43cc-c925-730fa811b8f0"
      },
      "source": [
        "x.shape"
      ],
      "execution_count": 36,
      "outputs": [
        {
          "output_type": "execute_result",
          "data": {
            "text/plain": [
              "(159, 6)"
            ]
          },
          "metadata": {
            "tags": []
          },
          "execution_count": 36
        }
      ]
    },
    {
      "cell_type": "code",
      "metadata": {
        "colab": {
          "base_uri": "https://localhost:8080/"
        },
        "id": "Cm7fu-UqUFku",
        "outputId": "b92c601d-3121-4129-e18f-c5b8b7823bf9"
      },
      "source": [
        "y.shape"
      ],
      "execution_count": 37,
      "outputs": [
        {
          "output_type": "execute_result",
          "data": {
            "text/plain": [
              "(159,)"
            ]
          },
          "metadata": {
            "tags": []
          },
          "execution_count": 37
        }
      ]
    },
    {
      "cell_type": "code",
      "metadata": {
        "id": "M5Totug9UFku"
      },
      "source": [
        "from sklearn.preprocessing import OneHotEncoder\n",
        "from sklearn.compose import ColumnTransformer\n",
        "ct=ColumnTransformer([(\"oh\",OneHotEncoder(),[0])],remainder=\"passthrough\")\n",
        "x=ct.fit_transform(x)"
      ],
      "execution_count": 38,
      "outputs": []
    },
    {
      "cell_type": "code",
      "metadata": {
        "colab": {
          "base_uri": "https://localhost:8080/"
        },
        "id": "HWnPtmENUFkv",
        "outputId": "405ee39d-abf3-436d-c380-0abe1c678c0c"
      },
      "source": [
        "x"
      ],
      "execution_count": 39,
      "outputs": [
        {
          "output_type": "execute_result",
          "data": {
            "text/plain": [
              "array([[1.0, 0.0, 0.0, ..., 30.0, 11.52, 4.02],\n",
              "       [1.0, 0.0, 0.0, ..., 31.2, 12.48, 4.3056],\n",
              "       [1.0, 0.0, 0.0, ..., 31.1, 12.3778, 4.6961],\n",
              "       ...,\n",
              "       [0.0, 0.0, 0.0, ..., 13.8, 2.2769999999999997, 1.2558],\n",
              "       [0.0, 0.0, 0.0, ..., 15.2, 2.8728, 2.0672],\n",
              "       [0.0, 0.0, 0.0, ..., 16.2, 2.9322, 1.8792]], dtype=object)"
            ]
          },
          "metadata": {
            "tags": []
          },
          "execution_count": 39
        }
      ]
    },
    {
      "cell_type": "code",
      "metadata": {
        "colab": {
          "base_uri": "https://localhost:8080/"
        },
        "id": "3awNLKs6UFkw",
        "outputId": "a7bf48f3-7bd6-489b-d7cb-258fce4234c3"
      },
      "source": [
        "x.shape"
      ],
      "execution_count": 40,
      "outputs": [
        {
          "output_type": "execute_result",
          "data": {
            "text/plain": [
              "(159, 12)"
            ]
          },
          "metadata": {
            "tags": []
          },
          "execution_count": 40
        }
      ]
    },
    {
      "cell_type": "code",
      "metadata": {
        "id": "PZjeweWBUFkw"
      },
      "source": [
        "from sklearn.model_selection import train_test_split\n",
        "x_train,x_test,y_train,y_test=train_test_split(x,y,test_size=0.2,random_state=0)"
      ],
      "execution_count": 41,
      "outputs": []
    },
    {
      "cell_type": "code",
      "metadata": {
        "colab": {
          "base_uri": "https://localhost:8080/"
        },
        "id": "p9-mINknUFkx",
        "outputId": "1573bca2-dea0-4d54-efa5-9967c5c1ed31"
      },
      "source": [
        "from sklearn.linear_model import LinearRegression\n",
        "mlr=LinearRegression()\n",
        "mlr.fit(x_train,y_train)"
      ],
      "execution_count": 42,
      "outputs": [
        {
          "output_type": "execute_result",
          "data": {
            "text/plain": [
              "LinearRegression(copy_X=True, fit_intercept=True, n_jobs=None, normalize=False)"
            ]
          },
          "metadata": {
            "tags": []
          },
          "execution_count": 42
        }
      ]
    },
    {
      "cell_type": "code",
      "metadata": {
        "id": "1w70RgN4UFkx"
      },
      "source": [
        "ypred=mlr.predict(x_test)"
      ],
      "execution_count": 43,
      "outputs": []
    },
    {
      "cell_type": "code",
      "metadata": {
        "colab": {
          "base_uri": "https://localhost:8080/"
        },
        "id": "pijupQGoUFky",
        "outputId": "978d54c8-77b6-4978-fdce-40fc1b4eeed0"
      },
      "source": [
        "ypred"
      ],
      "execution_count": 44,
      "outputs": [
        {
          "output_type": "execute_result",
          "data": {
            "text/plain": [
              "array([ 428.88533577,   98.08363614,  216.67998922,  208.66936638,\n",
              "        657.24094116,  876.38855413,  665.97861965,  407.27203048,\n",
              "        965.65306863,  146.62291102,  255.15532231,  561.63685124,\n",
              "        765.67575361, 1012.38234027, -118.72798063,   14.47341216,\n",
              "        137.60789564, 1155.53572308,  170.97092949,  724.93548455,\n",
              "       -128.48675188,  525.45508599,  175.3519065 , 1322.74816983,\n",
              "        -23.0873263 ,  475.44172778,  719.96841977,  280.94571114,\n",
              "        885.12085107,  -16.63412226,  585.26038657,  164.22863371])"
            ]
          },
          "metadata": {
            "tags": []
          },
          "execution_count": 44
        }
      ]
    },
    {
      "cell_type": "code",
      "metadata": {
        "colab": {
          "base_uri": "https://localhost:8080/"
        },
        "id": "qcGIZtjWUFkz",
        "outputId": "389bb1ef-ec67-45dd-eb9a-e2352de3af64"
      },
      "source": [
        "y_test"
      ],
      "execution_count": 45,
      "outputs": [
        {
          "output_type": "execute_result",
          "data": {
            "text/plain": [
              "array([ 390. ,    0. ,  170. ,  160. ,  556. ,  900. ,  800. ,  300. ,\n",
              "        975. ,  115. ,  200. ,  456. , 1000. , 1000. ,   60. ,   78. ,\n",
              "        145. , 1600. ,  130. ,  720. ,   55. ,  390. ,  120. , 1650. ,\n",
              "         90. ,  450. ,  700. ,  270. ,  850. ,    9.7,  650. ,  110. ])"
            ]
          },
          "metadata": {
            "tags": []
          },
          "execution_count": 45
        }
      ]
    },
    {
      "cell_type": "code",
      "metadata": {
        "colab": {
          "base_uri": "https://localhost:8080/"
        },
        "id": "mch-dclSUFkz",
        "outputId": "318d4ae4-3a92-4533-aad1-fbfe54602ec1"
      },
      "source": [
        "x_test"
      ],
      "execution_count": 46,
      "outputs": [
        {
          "output_type": "execute_result",
          "data": {
            "text/plain": [
              "array([[1.0, 0.0, 0.0, 0.0, 0.0, 0.0, 0.0, 27.6, 30.0, 35.0, 12.67, 4.69],\n",
              "       [0.0, 0.0, 0.0, 0.0, 1.0, 0.0, 0.0, 19.0, 20.5, 22.8, 6.4752,\n",
              "        3.3516],\n",
              "       [0.0, 0.0, 1.0, 0.0, 0.0, 0.0, 0.0, 21.5, 23.5, 25.0, 6.275,\n",
              "        3.725],\n",
              "       [0.0, 0.0, 0.0, 0.0, 1.0, 0.0, 0.0, 20.5, 22.5, 25.3, 7.0334,\n",
              "        3.8203],\n",
              "       [0.0, 0.0, 1.0, 0.0, 0.0, 0.0, 0.0, 32.0, 34.5, 36.5, 10.2565,\n",
              "        6.3875],\n",
              "       [0.0, 0.0, 1.0, 0.0, 0.0, 0.0, 0.0, 37.0, 40.0, 42.5, 11.73,\n",
              "        7.225],\n",
              "       [0.0, 0.0, 0.0, 0.0, 0.0, 0.0, 1.0, 33.7, 36.4, 39.6, 11.7612,\n",
              "        6.5736],\n",
              "       [0.0, 0.0, 0.0, 1.0, 0.0, 0.0, 0.0, 34.8, 37.3, 39.8, 6.2884,\n",
              "        4.0198],\n",
              "       [1.0, 0.0, 0.0, 0.0, 0.0, 0.0, 0.0, 37.4, 41.0, 45.9, 18.6354,\n",
              "        6.7473],\n",
              "       [0.0, 0.0, 1.0, 0.0, 0.0, 0.0, 0.0, 19.0, 21.0, 22.5, 5.9175,\n",
              "        3.3075],\n",
              "       [0.0, 0.0, 0.0, 1.0, 0.0, 0.0, 0.0, 30.0, 32.3, 34.8, 5.568,\n",
              "        3.3756],\n",
              "       [0.0, 0.0, 0.0, 1.0, 0.0, 0.0, 0.0, 40.0, 42.5, 45.5, 7.28,\n",
              "        4.3225],\n",
              "       [0.0, 0.0, 0.0, 0.0, 0.0, 0.0, 1.0, 37.3, 40.0, 43.5,\n",
              "        12.354000000000001, 6.525],\n",
              "       [0.0, 0.0, 1.0, 0.0, 0.0, 0.0, 0.0, 40.2, 43.5, 46.0,\n",
              "        12.604000000000001, 8.142000000000001],\n",
              "       [0.0, 1.0, 0.0, 0.0, 0.0, 0.0, 0.0, 14.3, 15.5, 17.4, 6.5772,\n",
              "        2.3142],\n",
              "       [0.0, 0.0, 0.0, 0.0, 1.0, 0.0, 0.0, 17.5, 18.8, 21.2, 5.5756,\n",
              "        2.9044],\n",
              "       [0.0, 0.0, 0.0, 0.0, 1.0, 0.0, 0.0, 20.5, 22.0, 24.3, 6.6339,\n",
              "        3.5478],\n",
              "       [0.0, 0.0, 0.0, 1.0, 0.0, 0.0, 0.0, 56.0, 60.0, 64.0, 9.6, 6.144],\n",
              "       [0.0, 0.0, 1.0, 0.0, 0.0, 0.0, 0.0, 19.3, 21.3, 22.8,\n",
              "        6.3839999999999995, 3.534],\n",
              "       [1.0, 0.0, 0.0, 0.0, 0.0, 0.0, 0.0, 32.0, 35.0, 40.6, 16.3618,\n",
              "        6.09],\n",
              "       [0.0, 1.0, 0.0, 0.0, 0.0, 0.0, 0.0, 13.5, 14.7, 16.5, 6.8475,\n",
              "        2.3265],\n",
              "       [0.0, 0.0, 0.0, 0.0, 1.0, 0.0, 0.0, 29.5, 31.7, 35.0, 9.485,\n",
              "        5.355],\n",
              "       [0.0, 0.0, 1.0, 0.0, 0.0, 0.0, 0.0, 20.0, 22.0, 23.5, 6.11,\n",
              "        3.4075],\n",
              "       [0.0, 0.0, 0.0, 1.0, 0.0, 0.0, 0.0, 59.0, 63.4, 68.0,\n",
              "        10.812000000000001, 7.48],\n",
              "       [0.0, 1.0, 0.0, 0.0, 0.0, 0.0, 0.0, 16.3, 17.7, 19.8, 7.4052,\n",
              "        2.673],\n",
              "       [1.0, 0.0, 0.0, 0.0, 0.0, 0.0, 0.0, 27.6, 30.0, 35.1, 14.0049,\n",
              "        4.8438],\n",
              "       [1.0, 0.0, 0.0, 0.0, 0.0, 0.0, 0.0, 31.9, 35.0, 40.5, 16.2405,\n",
              "        5.5889999999999995],\n",
              "       [0.0, 0.0, 0.0, 0.0, 0.0, 0.0, 1.0, 24.1, 26.5, 29.3, 8.1454,\n",
              "        4.2485],\n",
              "       [0.0, 0.0, 1.0, 0.0, 0.0, 0.0, 0.0, 36.9, 40.0, 42.3, 11.9286,\n",
              "        7.1064],\n",
              "       [0.0, 0.0, 0.0, 0.0, 0.0, 1.0, 0.0, 10.4, 11.0, 12.0,\n",
              "        2.1959999999999997, 1.38],\n",
              "       [1.0, 0.0, 0.0, 0.0, 0.0, 0.0, 0.0, 31.0, 33.5, 38.7, 14.4738,\n",
              "        5.7276],\n",
              "       [0.0, 0.0, 1.0, 0.0, 0.0, 0.0, 0.0, 20.0, 22.0, 23.5, 5.5225,\n",
              "        3.995]], dtype=object)"
            ]
          },
          "metadata": {
            "tags": []
          },
          "execution_count": 46
        }
      ]
    },
    {
      "cell_type": "code",
      "metadata": {
        "id": "JedMSeEWUFk0"
      },
      "source": [
        "from sklearn.metrics import r2_score\n",
        "accuracy=r2_score(ypred,y_test)"
      ],
      "execution_count": 47,
      "outputs": []
    },
    {
      "cell_type": "code",
      "metadata": {
        "colab": {
          "base_uri": "https://localhost:8080/"
        },
        "id": "dZ9mYPI5UFk0",
        "outputId": "618e6708-00fd-4870-de18-cde8bdf08a24"
      },
      "source": [
        "accuracy"
      ],
      "execution_count": 48,
      "outputs": [
        {
          "output_type": "execute_result",
          "data": {
            "text/plain": [
              "0.8813066271385553"
            ]
          },
          "metadata": {
            "tags": []
          },
          "execution_count": 48
        }
      ]
    },
    {
      "cell_type": "code",
      "metadata": {
        "colab": {
          "base_uri": "https://localhost:8080/",
          "height": 206
        },
        "id": "aajl4YhIUFk1",
        "outputId": "6eee046c-5009-4fbd-8ec6-718100c56b1a"
      },
      "source": [
        "dataset.head()"
      ],
      "execution_count": 49,
      "outputs": [
        {
          "output_type": "execute_result",
          "data": {
            "text/html": [
              "<div>\n",
              "<style scoped>\n",
              "    .dataframe tbody tr th:only-of-type {\n",
              "        vertical-align: middle;\n",
              "    }\n",
              "\n",
              "    .dataframe tbody tr th {\n",
              "        vertical-align: top;\n",
              "    }\n",
              "\n",
              "    .dataframe thead th {\n",
              "        text-align: right;\n",
              "    }\n",
              "</style>\n",
              "<table border=\"1\" class=\"dataframe\">\n",
              "  <thead>\n",
              "    <tr style=\"text-align: right;\">\n",
              "      <th></th>\n",
              "      <th>Species</th>\n",
              "      <th>Weight</th>\n",
              "      <th>Length1</th>\n",
              "      <th>Length2</th>\n",
              "      <th>Length3</th>\n",
              "      <th>Height</th>\n",
              "      <th>Width</th>\n",
              "    </tr>\n",
              "  </thead>\n",
              "  <tbody>\n",
              "    <tr>\n",
              "      <th>0</th>\n",
              "      <td>Bream</td>\n",
              "      <td>242.0</td>\n",
              "      <td>23.2</td>\n",
              "      <td>25.4</td>\n",
              "      <td>30.0</td>\n",
              "      <td>11.5200</td>\n",
              "      <td>4.0200</td>\n",
              "    </tr>\n",
              "    <tr>\n",
              "      <th>1</th>\n",
              "      <td>Bream</td>\n",
              "      <td>290.0</td>\n",
              "      <td>24.0</td>\n",
              "      <td>26.3</td>\n",
              "      <td>31.2</td>\n",
              "      <td>12.4800</td>\n",
              "      <td>4.3056</td>\n",
              "    </tr>\n",
              "    <tr>\n",
              "      <th>2</th>\n",
              "      <td>Bream</td>\n",
              "      <td>340.0</td>\n",
              "      <td>23.9</td>\n",
              "      <td>26.5</td>\n",
              "      <td>31.1</td>\n",
              "      <td>12.3778</td>\n",
              "      <td>4.6961</td>\n",
              "    </tr>\n",
              "    <tr>\n",
              "      <th>3</th>\n",
              "      <td>Bream</td>\n",
              "      <td>363.0</td>\n",
              "      <td>26.3</td>\n",
              "      <td>29.0</td>\n",
              "      <td>33.5</td>\n",
              "      <td>12.7300</td>\n",
              "      <td>4.4555</td>\n",
              "    </tr>\n",
              "    <tr>\n",
              "      <th>4</th>\n",
              "      <td>Bream</td>\n",
              "      <td>430.0</td>\n",
              "      <td>26.5</td>\n",
              "      <td>29.0</td>\n",
              "      <td>34.0</td>\n",
              "      <td>12.4440</td>\n",
              "      <td>5.1340</td>\n",
              "    </tr>\n",
              "  </tbody>\n",
              "</table>\n",
              "</div>"
            ],
            "text/plain": [
              "  Species  Weight  Length1  Length2  Length3   Height   Width\n",
              "0   Bream   242.0     23.2     25.4     30.0  11.5200  4.0200\n",
              "1   Bream   290.0     24.0     26.3     31.2  12.4800  4.3056\n",
              "2   Bream   340.0     23.9     26.5     31.1  12.3778  4.6961\n",
              "3   Bream   363.0     26.3     29.0     33.5  12.7300  4.4555\n",
              "4   Bream   430.0     26.5     29.0     34.0  12.4440  5.1340"
            ]
          },
          "metadata": {
            "tags": []
          },
          "execution_count": 49
        }
      ]
    },
    {
      "cell_type": "code",
      "metadata": {
        "id": "ByUPC9xgUFk2"
      },
      "source": [
        "yp=mlr.predict(ct.transform([[\"Bream\",23.2,25.4,30,11.52,4.02]]))"
      ],
      "execution_count": 50,
      "outputs": []
    },
    {
      "cell_type": "code",
      "metadata": {
        "colab": {
          "base_uri": "https://localhost:8080/"
        },
        "id": "XHHWfBLmUFk2",
        "outputId": "2bcf2932-e2fd-4e3c-ccd6-04ec5b296783"
      },
      "source": [
        "yp"
      ],
      "execution_count": 51,
      "outputs": [
        {
          "output_type": "execute_result",
          "data": {
            "text/plain": [
              "array([264.59608349])"
            ]
          },
          "metadata": {
            "tags": []
          },
          "execution_count": 51
        }
      ]
    },
    {
      "cell_type": "code",
      "metadata": {
        "id": "DfcWN8LYUFk2"
      },
      "source": [
        ""
      ],
      "execution_count": 51,
      "outputs": []
    }
  ]
}